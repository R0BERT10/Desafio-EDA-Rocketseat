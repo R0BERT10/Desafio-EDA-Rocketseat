{
  "nbformat": 4,
  "nbformat_minor": 0,
  "metadata": {
    "colab": {
      "provenance": [],
      "authorship_tag": "ABX9TyMowjyzLKb45D2vR0UM45qj",
      "include_colab_link": true
    },
    "kernelspec": {
      "name": "python3",
      "display_name": "Python 3"
    },
    "language_info": {
      "name": "python"
    }
  },
  "cells": [
    {
      "cell_type": "markdown",
      "metadata": {
        "id": "view-in-github",
        "colab_type": "text"
      },
      "source": [
        "<a href=\"https://colab.research.google.com/github/R0BERT10/Desafio-EDA-Rocketseat/blob/main/Desafio_EDA.ipynb\" target=\"_parent\"><img src=\"https://colab.research.google.com/assets/colab-badge.svg\" alt=\"Open In Colab\"/></a>"
      ]
    },
    {
      "cell_type": "markdown",
      "source": [
        "# **Desafio - EDA** #"
      ],
      "metadata": {
        "id": "MiwNlx-z5r0C"
      }
    },
    {
      "cell_type": "markdown",
      "source": [
        "Com base no módulo que acabamos de ver , junte suas anotações e conhecimento adquirido para analisar a seguinte base de dados:\n",
        "\n",
        "Dessa base, analise e extraia:\n",
        "\n",
        "- Tipos de dados disponíveis\n",
        "- Período da análise feita\n",
        "- Tamanho da base de dados\n",
        "- Verificar dados nulos\n",
        "- Outliers"
      ],
      "metadata": {
        "id": "_YSRiUJhgfzC"
      }
    },
    {
      "cell_type": "code",
      "execution_count": null,
      "metadata": {
        "id": "stpp3rAVcjBJ"
      },
      "outputs": [],
      "source": [
        "import pandas as pd\n",
        "import matplotlib.pyplot as plt"
      ]
    },
    {
      "cell_type": "code",
      "source": [
        "df_netfrix_daily_top10 = pd.read_csv(\"/content/netflix daily top 10.csv\")\n",
        "\n",
        "df_netfrix_daily_top10"
      ],
      "metadata": {
        "id": "PBPWpO9Qd0-3"
      },
      "execution_count": null,
      "outputs": []
    },
    {
      "cell_type": "code",
      "source": [
        "# @title Tipos de dados disponíveis\n",
        "\n",
        "tipos_de_dados = df_netfrix_daily_top10.dtypes\n",
        "tipos_de_dados.rename(\"Tipos\", inplace=True)\n",
        "\n",
        "print(\"Tipos de dados em cada coluna:\")\n",
        "print(tipos_de_dados)\n",
        "print(\"\\n\\n\\n\")\n",
        "\n",
        "tipos_de_dados"
      ],
      "metadata": {
        "cellView": "form",
        "id": "I3T1KUrRgUvM"
      },
      "execution_count": null,
      "outputs": []
    },
    {
      "cell_type": "code",
      "source": [
        "# @title Período da análise feita\n",
        "\n",
        "df_netfrix_daily_top10['As of'] = pd.to_datetime(df_netfrix_daily_top10['As of'])\n",
        "\n",
        "# Encontrar a maior e a menor data\n",
        "maior_data = df_netfrix_daily_top10['As of'].max()\n",
        "menor_data = df_netfrix_daily_top10['As of'].min()\n",
        "\n",
        "# Exibir o período de análise\n",
        "print(f\"O período de análise foi de {menor_data.date()} a {maior_data.date()}\")"
      ],
      "metadata": {
        "cellView": "form",
        "id": "19rzN_Mlgo5a"
      },
      "execution_count": null,
      "outputs": []
    },
    {
      "cell_type": "code",
      "source": [
        "# @title Tamanho da base de dados\n",
        "\n",
        "tamanho = df_netfrix_daily_top10.shape\n",
        "\n",
        "tamanho\n",
        "print(f\"A base de dados possui {tamanho[0]} linhas e {tamanho[1]} colunas.\")"
      ],
      "metadata": {
        "cellView": "form",
        "id": "vlEhpsf7jcQ_"
      },
      "execution_count": null,
      "outputs": []
    },
    {
      "cell_type": "code",
      "source": [
        "# @title Verificar dados nulos\n",
        "\n",
        "dados_nulos = df_netfrix_daily_top10.isnull().sum()\n",
        "dados_nulos.rename(\"QTD. de nulos\", inplace=True)\n",
        "\n",
        "print(\"Valores nulos em cada coluna:\")\n",
        "print(dados_nulos)\n",
        "print(\"\\n\\n\\n\")\n",
        "\n",
        "dados_nulos"
      ],
      "metadata": {
        "cellView": "form",
        "id": "I__HI7agjeJs"
      },
      "execution_count": null,
      "outputs": []
    },
    {
      "cell_type": "code",
      "source": [
        "# @title Outliers\n",
        "\n",
        "def filtarOutliers(dataframe, serieAserAnalizado):\n",
        "  # Calcular o IQR\n",
        "  Q1 = serieAserAnalizado.quantile(0.25)\n",
        "  Q3 = serieAserAnalizado.quantile(0.75)\n",
        "  IQR = Q3 - Q1\n",
        "\n",
        "  # Determinar limites superior e inferior\n",
        "  limite_inferior = Q1 - 1.5 * IQR\n",
        "  limite_superior = Q3 + 1.5 * IQR\n",
        "\n",
        "  # Identificar outliers\n",
        "  return dataframe[(serieAserAnalizado < limite_inferior) | (serieAserAnalizado > limite_superior)]\n",
        "\n",
        "print('Outliers da coluna de \"Rank\":')\n",
        "print()\n",
        "outliersRank = filtarOutliers(\n",
        "    df_netfrix_daily_top10,\n",
        "    df_netfrix_daily_top10[\"Rank\"]\n",
        ")\n",
        "\n",
        "print(outliersRank)\n",
        "print(\"\\n\\n\\n\")\n",
        "\n",
        "print('Outliers da coluna de \"Days In Top 10\":')\n",
        "print()\n",
        "outliersDayInTop10 = filtarOutliers(\n",
        "    df_netfrix_daily_top10,\n",
        "    df_netfrix_daily_top10[\"Days In Top 10\"]\n",
        ")\n",
        "print(outliersDayInTop10)\n",
        "print(\"\\n\\n\\n\")\n",
        "\n",
        "print('Outliers da coluna de \"Viewership Score\":')\n",
        "print()\n",
        "outliersViewership = filtarOutliers(\n",
        "    df_netfrix_daily_top10,\n",
        "    df_netfrix_daily_top10[\"Viewership Score\"]\n",
        ")\n",
        "print(outliersViewership)\n",
        "print()\n"
      ],
      "metadata": {
        "id": "kJ-EINS79uWN",
        "cellView": "form"
      },
      "execution_count": null,
      "outputs": []
    },
    {
      "cell_type": "code",
      "source": [
        "# @title Outliers em grafico tipo caixa\n",
        "df_netfrix_daily_top10.plot(kind='box', figsize=(10,6), subplots=True);"
      ],
      "metadata": {
        "cellView": "form",
        "id": "3D8AeuKz4B9C"
      },
      "execution_count": null,
      "outputs": []
    }
  ]
}